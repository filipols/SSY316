{
 "cells": [
  {
   "cell_type": "code",
   "execution_count": null,
   "metadata": {},
   "outputs": [],
   "source": [
    "import numpy as np"
   ]
  },
  {
   "cell_type": "code",
   "execution_count": 6,
   "metadata": {},
   "outputs": [
    {
     "name": "stdout",
     "output_type": "stream",
     "text": [
      "0.1446646156726899\n"
     ]
    }
   ],
   "source": [
    "import math\n",
    "\n",
    "p_1 = 10**10 * np.exp(-10) * 0.25 / math.factorial(10) * 10**8 * np.exp(-10) * 0.25 / math.factorial(8)\n",
    "\n",
    "p_2 = 7**10 * np.exp(-7) * 0.75 / math.factorial(10) * 7**8 * np.exp(-7) * 0.75 / math.factorial(8)\n",
    "\n",
    "p = p_1 / (p_1 + p_2)\n",
    "\n",
    "print(p)"
   ]
  },
  {
   "cell_type": "code",
   "execution_count": 15,
   "metadata": {},
   "outputs": [
    {
     "name": "stdout",
     "output_type": "stream",
     "text": [
      "Estimated probability that the company used high-quality steel: 0.3318\n"
     ]
    }
   ],
   "source": [
    "import numpy as np\n",
    "\n",
    "def monte_carlo_simulation(n_simulations=100000):\n",
    "    high_quality_given_observation = 0\n",
    "    total_observations = 0\n",
    "\n",
    "    # Simulate the process\n",
    "    for _ in range(n_simulations):\n",
    "        # Step 1: Simulate steel quality (S = 1 for high quality, S = 0 for low quality)\n",
    "        steel_quality = np.random.choice([0, 1], p=[0.75, 0.25])\n",
    "\n",
    "        # Step 2: Simulate the number of clips (C) and pins (P) based on steel quality\n",
    "        if steel_quality == 1:\n",
    "            clips = np.random.poisson(10)  # High quality steel -> λ = 10\n",
    "            pins = np.random.poisson(10)\n",
    "        else:\n",
    "            clips = np.random.poisson(7)   # Low quality steel -> λ = 7\n",
    "            pins = np.random.poisson(7)\n",
    "\n",
    "        # Step 3: Check if the observed values match (C = 10, P = 8)\n",
    "        if clips == 10 and pins == 8:\n",
    "            total_observations += 1\n",
    "            high_quality_given_observation += steel_quality\n",
    "\n",
    "    # Step 4: Estimate the posterior probability using the simulation\n",
    "    probability_high_quality_given_observation = high_quality_given_observation / total_observations\n",
    "    \n",
    "    return probability_high_quality_given_observation\n",
    "\n",
    "# Run the Monte Carlo simulation with 100,000 samples\n",
    "estimated_probability = monte_carlo_simulation(n_simulations=100000)\n",
    "print(f\"Estimated probability that the company used high-quality steel: {estimated_probability:.4f}\")\n",
    "\n"
   ]
  }
 ],
 "metadata": {
  "kernelspec": {
   "display_name": "Python 3",
   "language": "python",
   "name": "python3"
  },
  "language_info": {
   "codemirror_mode": {
    "name": "ipython",
    "version": 3
   },
   "file_extension": ".py",
   "mimetype": "text/x-python",
   "name": "python",
   "nbconvert_exporter": "python",
   "pygments_lexer": "ipython3",
   "version": "3.9.1"
  }
 },
 "nbformat": 4,
 "nbformat_minor": 2
}
