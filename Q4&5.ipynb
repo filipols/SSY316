{
 "cells": [
  {
   "cell_type": "code",
   "execution_count": 90,
   "metadata": {},
   "outputs": [],
   "source": [
    "import numpy as np\n",
    "import pandas as pd\n",
    "from sklearn.metrics import (\n",
    "    accuracy_score,\n",
    "    precision_score,\n",
    "    recall_score,\n",
    "    f1_score,\n",
    "    roc_curve,\n",
    "    auc,\n",
    ")\n",
    "from sklearn.model_selection import train_test_split\n",
    "import matplotlib.pyplot as plt\n",
    "from sklearn.linear_model import LogisticRegression\n",
    "from sklearn.preprocessing import MinMaxScaler\n"
   ]
  },
  {
   "cell_type": "code",
   "execution_count": 91,
   "metadata": {},
   "outputs": [],
   "source": [
    "# Load and preprocess data\n",
    "def Normalize(X): #Done\n",
    "    scaler = MinMaxScaler()\n",
    "    X = scaler.fit_transform(X)\n",
    "    return X                       # TODO: Implement the normalization function  \n",
    "\n",
    "\n",
    "def load_data():\n",
    "    # url_hospital = \"https://archive.ics.uci.edu/ml/machine-learning-databases/haberman/haberman.data\"\n",
    "    data = pd.read_csv(\n",
    "        \"haberman.csv\",\n",
    "        header=None,\n",
    "        names=[\"age\", \"year\", \"nodes_detected\", \"survival_status\"],\n",
    "    )\n",
    "    X = data.iloc[:, :3].to_numpy()\n",
    "    y = (data.iloc[:, 3] == 1).astype(int)  # Convert survival status to binary\n",
    "    X = Normalize(X)\n",
    "\n",
    "    return X, y"
   ]
  },
  {
   "cell_type": "code",
   "execution_count": 92,
   "metadata": {},
   "outputs": [
    {
     "name": "stdout",
     "output_type": "stream",
     "text": [
      "age                0\n",
      "year               0\n",
      "nodes_detected     0\n",
      "survival_status    0\n",
      "dtype: int64\n",
      "survival_status\n",
      "1    225\n",
      "2     81\n",
      "Name: count, dtype: int64\n"
     ]
    }
   ],
   "source": [
    "# Explore Data \n",
    "dataframe = pd.read_csv(\"haberman.csv\", header=None, names=[\"age\", \"year\", \"nodes_detected\", \"survival_status\"])\n",
    "# print(dataframe.drop(columns=[\"survival_status\"]).describe())\n",
    "\n",
    "missing_values = dataframe.isnull().sum()\n",
    "print(missing_values)\n",
    "\n",
    "class_distribution = dataframe['survival_status'].value_counts()\n",
    "print(class_distribution)\n"
   ]
  },
  {
   "cell_type": "code",
   "execution_count": 93,
   "metadata": {},
   "outputs": [],
   "source": [
    "# Logistic function\n",
    "def sigmoid(x):\n",
    "    return 1 / (1 + np.exp(-x))                       # TODO: Implement the sigmoid function\n",
    "\n",
    "# Negative Log-Likelihood\n",
    "def nll(beta, X, y):\n",
    "    sum = - np.sum(y * np.log(sigmoid(X @ beta)) + (1 - y) * np.log(1 - sigmoid(X @ beta)))\n",
    "    return sum                  # TODO: Implement NLL function\n",
    "\n",
    "\n",
    "# Gradient of NLL\n",
    "def gradient(beta, X, y):\n",
    "    grad = X.T @ (sigmoid(X @ beta) - y) \n",
    "\n",
    "    # Verify gradient \n",
    "    h = 1e-6\n",
    "\n",
    "    for i in range(len(beta)):\n",
    "        beta_plus = beta.copy()\n",
    "        beta_plus[i] += h\n",
    "        beta_minus = beta.copy()\n",
    "        beta_minus[i] -= h\n",
    "        grad_approx = (nll(beta_plus, X, y) - nll(beta_minus, X, y)) / (2 * h)\n",
    "\n",
    "        if abs(grad_approx - grad[i]) > h:\n",
    "            print(\"grad_approx: \", grad_approx,\" grad: \", grad[i])\n",
    "            print(\"diff: \", grad_approx - grad[i])\n",
    "            raise ValueError(f\"Gradient check failed at parameter {i}. Difference exceeds tolerance.\")\n",
    "\n",
    "            break\n",
    "    return  grad #np.zeros(X.shape[1])     # TODO: Implement the gradient of NLL\n",
    "\n",
    "\n",
    "# Hessian of NLL\n",
    "def hessian(beta, X):\n",
    "    hess = X.T @ np.diag(sigmoid(X @ beta) * (1 - sigmoid(X @ beta))) @ X\n",
    "    return hess     # TODO: Implement the hessian of NLL"
   ]
  },
  {
   "cell_type": "code",
   "execution_count": 94,
   "metadata": {},
   "outputs": [],
   "source": [
    "# Newton-Raphson optimization\n",
    "def newton_raphson(X, y, tol=1e-6, max_iter=100):\n",
    "    beta = np.zeros(X.shape[1])    # TODO: Implement the Newton-Raphson optimization\n",
    "\n",
    "    for i in range(max_iter):\n",
    "        beta_new = beta - np.linalg.inv(hessian(beta, X)) @ gradient(beta, X, y)\n",
    "        if np.linalg.norm(beta_new - beta) < tol:\n",
    "            break\n",
    "        beta = beta_new\n",
    "       \n",
    "    return beta"
   ]
  },
  {
   "cell_type": "code",
   "execution_count": 95,
   "metadata": {},
   "outputs": [],
   "source": [
    "def predict(X, beta):\n",
    "    prob = sigmoid(X @ beta)\n",
    "    predictions = (prob >= 0.5).astype(int)\n",
    "    \n",
    "    return predictions # np.zeros(X.shape[0])    # TODO: Implement the prediction function"
   ]
  },
  {
   "cell_type": "code",
   "execution_count": 96,
   "metadata": {},
   "outputs": [
    {
     "name": "stdout",
     "output_type": "stream",
     "text": [
      "Newton Raphson Accuracy: 0.73\n",
      "Newton Raphson Precision: 0.75\n",
      "Newton Raphson Recall: 0.93\n",
      "Newton Raphson F1 Score: 0.83\n"
     ]
    }
   ],
   "source": [
    "# Main workflow\n",
    "\n",
    "# Load and preprocess data\n",
    "X, y = load_data()\n",
    "\n",
    "# Split data into training and test sets\n",
    "X_train, X_test, y_train, y_test = train_test_split(\n",
    "    X, y, test_size=0.2, random_state=42\n",
    ")\n",
    "\n",
    "# Train logistic regression model\n",
    "beta = newton_raphson(X_train, y_train)\n",
    "\n",
    "# Predictions and evaluation metrics for Newton Raphson\n",
    "NP_preds = predict(X_test, beta)\n",
    "NP_accuracy = accuracy_score(y_test, NP_preds)\n",
    "NP_precision = precision_score(y_test, NP_preds)\n",
    "NP_recall = recall_score(y_test, NP_preds)\n",
    "NP_f1 = f1_score(y_test, NP_preds)\n",
    "\n",
    "# Print metrics\n",
    "print(f\"Newton Raphson Accuracy: {NP_accuracy:.2f}\")\n",
    "print(f\"Newton Raphson Precision: {NP_precision:.2f}\")\n",
    "print(f\"Newton Raphson Recall: {NP_recall:.2f}\")\n",
    "print(f\"Newton Raphson F1 Score: {NP_f1:.2f}\")\n",
    "\n"
   ]
  },
  {
   "cell_type": "code",
   "execution_count": 101,
   "metadata": {},
   "outputs": [
    {
     "name": "stdout",
     "output_type": "stream",
     "text": [
      "Scikit Learn Accuracy: 0.71\n",
      "Scikit Learn Precision: 0.71\n",
      "Scikit Learn Recall: 1.00\n",
      "Scikit Learn F1 Score: 0.83\n"
     ]
    }
   ],
   "source": [
    "# Train logistic regression model using sklearn\n",
    "logreg = LogisticRegression(fit_intercept=True, solver=\"lbfgs\")\n",
    "logreg.fit(X_train, y_train)\n",
    "\n",
    "# Predictions and evaluation metrics for Scikit Learn\n",
    "SC_preds = logreg.predict(X_test)\n",
    "SC_accuracy = accuracy_score(y_test, SC_preds)\n",
    "SC_precision = precision_score(y_test, SC_preds)\n",
    "SC_recall = recall_score(y_test, SC_preds)\n",
    "SC_f1 = f1_score(y_test, SC_preds)\n",
    "# Print metrics\n",
    "print(f\"Scikit Learn Accuracy: {SC_accuracy:.2f}\")\n",
    "print(f\"Scikit Learn Precision: {SC_precision:.2f}\")\n",
    "print(f\"Scikit Learn Recall: {SC_recall:.2f}\")\n",
    "print(f\"Scikit Learn F1 Score: {SC_f1:.2f}\")"
   ]
  },
  {
   "cell_type": "code",
   "execution_count": 98,
   "metadata": {},
   "outputs": [
    {
     "data": {
      "image/png": "[encoded data removed]",
      "text/plain": [
       "<Figure size 640x480 with 1 Axes>"
      ]
     },
     "metadata": {},
     "output_type": "display_data"
    }
   ],
   "source": [
    "# Plot ROC curve\n",
    "fpr, tpr, _ = roc_curve(y_test, NP_preds)\n",
    "fpr2, tpr2, _ = roc_curve(y_test, SC_preds)\n",
    "roc_auc = auc(fpr, tpr)\n",
    "roc_auc2 = auc(fpr2, tpr2)\n",
    "plt.plot(fpr, tpr, label=f\"Newton Raphson ROC curve (AUC = {roc_auc:.2f})\")\n",
    "plt.plot(fpr2, tpr2, label=f\"Scikit Learn ROC curve (AUC = {roc_auc2:.2f})\")\n",
    "plt.xlabel(\"False Positive Rate\")\n",
    "plt.ylabel(\"True Positive Rate\")\n",
    "plt.title(\"ROC Curve\")\n",
    "plt.legend()\n",
    "plt.show()"
   ]
  },
  {
   "cell_type": "code",
   "execution_count": 99,
   "metadata": {},
   "outputs": [],
   "source": [
    "# Gradient of the negative log-posterior\n",
    "def grad_neg_log_posterior(beta, X, y):\n",
    "    return np.zeros(X.shape[1])     #TODO: Implement the gradient of Negative log-posterior\n",
    "\n",
    "\n",
    "# Hessian of the negative log-posterior\n",
    "def hessian_neg_log_posterior(beta, X):\n",
    "    return np.eye(X.shape[1])       # TODO: Implement the hessian of Negative log-posterior"
   ]
  },
  {
   "cell_type": "code",
   "execution_count": 100,
   "metadata": {},
   "outputs": [
    {
     "name": "stdout",
     "output_type": "stream",
     "text": [
      "Laplace approximation Accuracy: 0.71\n",
      "Laplace approximation Precision: 0.71\n",
      "Laplace approximation Recall: 1.00\n",
      "Laplace approximation F1 Score: 0.83\n"
     ]
    }
   ],
   "source": [
    "hessian = hessian_neg_log_posterior\n",
    "gradient = grad_neg_log_posterior\n",
    "\n",
    "# Train logistic regression model for Laplace approximation\n",
    "LA_beta = newton_raphson(X_train, y_train)\n",
    "\n",
    "# Predictions and evaluation metrics for Newton Raphson\n",
    "LA_preds = predict(X_test, LA_beta)\n",
    "LA_accuracy = accuracy_score(y_test, LA_preds)\n",
    "LA_precision = precision_score(y_test, LA_preds)\n",
    "LA_recall = recall_score(y_test, LA_preds)\n",
    "LA_f1 = f1_score(y_test, LA_preds)\n",
    "\n",
    "# Print metrics\n",
    "print(f\"Laplace approximation Accuracy: {LA_accuracy:.2f}\")\n",
    "print(f\"Laplace approximation Precision: {LA_precision:.2f}\")\n",
    "print(f\"Laplace approximation Recall: {LA_recall:.2f}\")\n",
    "print(f\"Laplace approximation F1 Score: {LA_f1:.2f}\")"
   ]
  }
 ],
 "metadata": {
  "kernelspec": {
   "display_name": "Python 3",
   "language": "python",
   "name": "python3"
  },
  "language_info": {
   "codemirror_mode": {
    "name": "ipython",
    "version": 3
   },
   "file_extension": ".py",
   "mimetype": "text/x-python",
   "name": "python",
   "nbconvert_exporter": "python",
   "pygments_lexer": "ipython3",
   "version": "3.11.4"
  }
 },
 "nbformat": 4,
 "nbformat_minor": 2
}
