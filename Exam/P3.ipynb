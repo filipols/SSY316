{
 "cells": [
  {
   "cell_type": "code",
   "execution_count": 2,
   "metadata": {},
   "outputs": [],
   "source": [
    "import numpy as np\n",
    "import pandas as pd\n",
    "import matplotlib.pyplot as plt"
   ]
  },
  {
   "cell_type": "code",
   "execution_count": null,
   "metadata": {},
   "outputs": [
    {
     "name": "stdout",
     "output_type": "stream",
     "text": [
      "   yyyy-mm-dd  HH:MM     team1     team2  score1  score2\n",
      "0  2018-08-18  18:00    Chievo  Juventus       2       3\n",
      "1  2018-08-18  20:30     Lazio    Napoli       1       2\n",
      "2  2018-08-19  18:00    Torino      Roma       0       1\n",
      "3  2018-08-19  20:30  Sassuolo     Inter       1       0\n",
      "4  2018-08-19  20:30     Parma   Udinese       2       2\n"
     ]
    }
   ],
   "source": [
    "# load data\n",
    "\n",
    "SerieA = pd.read_csv('SerieA.csv')\n",
    "print(SerieA.head())"
   ]
  }
 ],
 "metadata": {
  "kernelspec": {
   "display_name": "Python 3",
   "language": "python",
   "name": "python3"
  },
  "language_info": {
   "codemirror_mode": {
    "name": "ipython",
    "version": 3
   },
   "file_extension": ".py",
   "mimetype": "text/x-python",
   "name": "python",
   "nbconvert_exporter": "python",
   "pygments_lexer": "ipython3",
   "version": "3.9.1"
  }
 },
 "nbformat": 4,
 "nbformat_minor": 2
}
